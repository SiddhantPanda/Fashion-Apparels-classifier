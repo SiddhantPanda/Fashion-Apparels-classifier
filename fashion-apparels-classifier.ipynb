{
 "cells": [
  {
   "cell_type": "code",
   "execution_count": 1,
   "metadata": {
    "_cell_guid": "79c7e3d0-c299-4dcb-8224-4455121ee9b0",
    "_uuid": "d629ff2d2480ee46fbb7e2d37f6b5fab8052498a"
   },
   "outputs": [
    {
     "name": "stderr",
     "output_type": "stream",
     "text": [
      "Using TensorFlow backend.\n"
     ]
    }
   ],
   "source": [
    "# import the required libraries as follows:\n",
    "import keras\n",
    "from keras.models import Sequential\n",
    "from keras.layers import Dense, Dropout, Flatten\n",
    "from keras.layers import Conv2D, MaxPooling2D\n",
    "from keras.utils import to_categorical\n",
    "from keras.preprocessing import image\n",
    "import numpy as np\n",
    "import pandas as pd\n",
    "import matplotlib.pyplot as plt\n",
    "from sklearn.model_selection import train_test_split\n",
    "from keras.utils import to_categorical\n",
    "from tqdm import tqdm"
   ]
  },
  {
   "cell_type": "code",
   "execution_count": 2,
   "metadata": {},
   "outputs": [],
   "source": [
    "# loading the csv file\n",
    "train = pd.read_csv('../input/train/train.csv')"
   ]
  },
  {
   "cell_type": "markdown",
   "metadata": {},
   "source": [
    " We have grayscale images, so while loading the images we will keep color_mode = \"grayscale\".\n",
    " \n",
    " Now, we will read all the training images, store them in a list, and finally convert that list into a numpy array."
   ]
  },
  {
   "cell_type": "code",
   "execution_count": 3,
   "metadata": {},
   "outputs": [
    {
     "name": "stderr",
     "output_type": "stream",
     "text": [
      "100%|██████████| 60000/60000 [02:27<00:00, 407.75it/s]\n"
     ]
    }
   ],
   "source": [
    "# To store training images\n",
    "train_image = []\n",
    "\n",
    "for i in tqdm(range(train.shape[0])):\n",
    "    img = image.load_img('../input/train/train/'+train['id'][i].astype('str')+'.png', target_size=(28,28,1), color_mode = \"grayscale\")\n",
    "    img = image.img_to_array(img)\n",
    "    img = img/255\n",
    "    train_image.append(img)\n",
    "X = np.array(train_image)"
   ]
  },
  {
   "cell_type": "markdown",
   "metadata": {},
   "source": [
    " The problem is a multi-class classification problem (10 classes).\n",
    " We will perform one-hot encoding on the target variable."
   ]
  },
  {
   "cell_type": "code",
   "execution_count": 4,
   "metadata": {},
   "outputs": [],
   "source": [
    "y=train['label'].values\n",
    "y = to_categorical(y)"
   ]
  },
  {
   "cell_type": "markdown",
   "metadata": {},
   "source": [
    "Create a validation set from the training data."
   ]
  },
  {
   "cell_type": "markdown",
   "metadata": {},
   "source": []
  },
  {
   "cell_type": "code",
   "execution_count": 5,
   "metadata": {},
   "outputs": [],
   "source": [
    "X_train, X_test, y_train, y_test = train_test_split(X, y, random_state=42, test_size=0.2)"
   ]
  },
  {
   "cell_type": "markdown",
   "metadata": {},
   "source": [
    "Define the model structure.\n",
    "\n",
    "We will create a simple architecture with 2 convolutional layers, one dense hidden layer and one output layer."
   ]
  },
  {
   "cell_type": "code",
   "execution_count": 6,
   "metadata": {},
   "outputs": [],
   "source": [
    "model = Sequential()\n",
    "model.add(Conv2D(32, kernel_size=(3, 3),activation='relu',input_shape=(28,28,1)))\n",
    "model.add(Conv2D(64, (3, 3), activation='relu'))\n",
    "model.add(MaxPooling2D(pool_size=(2, 2)))\n",
    "model.add(Dropout(0.25))\n",
    "model.add(Flatten())\n",
    "model.add(Dense(128, activation='relu'))\n",
    "model.add(Dropout(0.5))\n",
    "model.add(Dense(10, activation='softmax'))"
   ]
  },
  {
   "cell_type": "code",
   "execution_count": 7,
   "metadata": {},
   "outputs": [],
   "source": [
    "# compile the model\n",
    "model.compile(loss='categorical_crossentropy',optimizer='Adam',metrics=['accuracy'])"
   ]
  },
  {
   "cell_type": "code",
   "execution_count": 8,
   "metadata": {},
   "outputs": [
    {
     "name": "stdout",
     "output_type": "stream",
     "text": [
      "Train on 48000 samples, validate on 12000 samples\n",
      "Epoch 1/10\n",
      "48000/48000 [==============================] - 17s 346us/step - loss: 0.5124 - acc: 0.8171 - val_loss: 0.3174 - val_acc: 0.8807\n",
      "Epoch 2/10\n",
      "48000/48000 [==============================] - 10s 206us/step - loss: 0.3402 - acc: 0.8768 - val_loss: 0.2702 - val_acc: 0.8998\n",
      "Epoch 3/10\n",
      "48000/48000 [==============================] - 10s 206us/step - loss: 0.2920 - acc: 0.8942 - val_loss: 0.2460 - val_acc: 0.9070\n",
      "Epoch 4/10\n",
      "48000/48000 [==============================] - 10s 205us/step - loss: 0.2586 - acc: 0.9066 - val_loss: 0.2276 - val_acc: 0.9132\n",
      "Epoch 5/10\n",
      "48000/48000 [==============================] - 10s 205us/step - loss: 0.2320 - acc: 0.9155 - val_loss: 0.2330 - val_acc: 0.9132\n",
      "Epoch 6/10\n",
      "48000/48000 [==============================] - 10s 205us/step - loss: 0.2117 - acc: 0.9220 - val_loss: 0.2244 - val_acc: 0.9173\n",
      "Epoch 7/10\n",
      "48000/48000 [==============================] - 10s 205us/step - loss: 0.1934 - acc: 0.9272 - val_loss: 0.2331 - val_acc: 0.9166\n",
      "Epoch 8/10\n",
      "48000/48000 [==============================] - 10s 213us/step - loss: 0.1785 - acc: 0.9329 - val_loss: 0.2160 - val_acc: 0.9214\n",
      "Epoch 9/10\n",
      "48000/48000 [==============================] - 10s 207us/step - loss: 0.1673 - acc: 0.9375 - val_loss: 0.2215 - val_acc: 0.9237\n",
      "Epoch 10/10\n",
      "48000/48000 [==============================] - 10s 204us/step - loss: 0.1571 - acc: 0.9412 - val_loss: 0.2429 - val_acc: 0.9206\n"
     ]
    },
    {
     "data": {
      "text/plain": [
       "<keras.callbacks.History at 0x7f3eda101208>"
      ]
     },
     "execution_count": 8,
     "metadata": {},
     "output_type": "execute_result"
    }
   ],
   "source": [
    "# train the model\n",
    "model.fit(X_train, y_train, epochs=10, validation_data=(X_test, y_test))"
   ]
  },
  {
   "cell_type": "code",
   "execution_count": 9,
   "metadata": {},
   "outputs": [],
   "source": [
    "# loading the csv file\n",
    "test = pd.read_csv('../input/test/test.csv')"
   ]
  },
  {
   "cell_type": "markdown",
   "metadata": {},
   "source": [
    "Now, we'll read all the test images, store them in a list, and then convert that list into a numpy array."
   ]
  },
  {
   "cell_type": "code",
   "execution_count": 10,
   "metadata": {},
   "outputs": [
    {
     "name": "stderr",
     "output_type": "stream",
     "text": [
      "100%|██████████| 10000/10000 [00:23<00:00, 434.01it/s]\n"
     ]
    }
   ],
   "source": [
    "# creating an empty list\n",
    "test_image = []\n",
    "#\n",
    "for i in tqdm(range(test.shape[0])):\n",
    "    img = image.load_img('../input/test/test/'+test['id'][i].astype('str')+'.png', target_size=(28,28,1), color_mode = \"grayscale\")\n",
    "    img = image.img_to_array(img)\n",
    "    img = img/255\n",
    "    test_image.append(img)\n",
    "test = np.array(test_image)"
   ]
  },
  {
   "cell_type": "markdown",
   "metadata": {},
   "source": [
    "Now, we'll make predictions. If you print \"prediction\", we'll see that the \"prediction\" is essentially an array containing all apparel labels."
   ]
  },
  {
   "cell_type": "code",
   "execution_count": 11,
   "metadata": {},
   "outputs": [
    {
     "data": {
      "text/plain": [
       "array([9, 2, 1, ..., 8, 1, 5])"
      ]
     },
     "execution_count": 11,
     "metadata": {},
     "output_type": "execute_result"
    }
   ],
   "source": [
    "# making predictions\n",
    "prediction = model.predict_classes(test)\n",
    "prediction"
   ]
  },
  {
   "cell_type": "markdown",
   "metadata": {},
   "source": [
    "As you've figured it out that the array obtained contains all predicted labels of the apparel images in test set.\n",
    "Now, we convert the results into a csv file."
   ]
  },
  {
   "cell_type": "code",
   "execution_count": 12,
   "metadata": {},
   "outputs": [],
   "source": [
    "# creating submission file\n",
    "sample = pd.read_csv('../input/test/test.csv')\n",
    "sample['label'] = prediction\n",
    "sample.to_csv('fashion_cnn.csv', header=True, index=False)"
   ]
  }
 ],
 "metadata": {
  "kernelspec": {
   "display_name": "Python 3",
   "language": "python",
   "name": "python3"
  },
  "language_info": {
   "codemirror_mode": {
    "name": "ipython",
    "version": 3
   },
   "file_extension": ".py",
   "mimetype": "text/x-python",
   "name": "python",
   "nbconvert_exporter": "python",
   "pygments_lexer": "ipython3",
   "version": "3.6.6"
  }
 },
 "nbformat": 4,
 "nbformat_minor": 1
}
